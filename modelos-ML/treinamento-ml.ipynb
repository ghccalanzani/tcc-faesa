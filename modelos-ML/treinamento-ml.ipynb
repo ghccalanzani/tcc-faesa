{
 "cells": [
  {
   "cell_type": "code",
   "execution_count": 17,
   "id": "initial_id",
   "metadata": {
    "ExecuteTime": {
     "end_time": "2025-05-05T03:47:12.459241Z",
     "start_time": "2025-05-05T03:47:12.456668Z"
    },
    "collapsed": true
   },
   "outputs": [],
   "source": [
    "import pandas as pd\n",
    "import numpy as np\n",
    "import matplotlib.pyplot as plt\n",
    "import joblib\n",
    "from imblearn.over_sampling import SMOTE\n",
    "from sklearn.model_selection import train_test_split\n",
    "from sklearn.naive_bayes import MultinomialNB\n",
    "from sklearn.metrics import classification_report\n",
    "from sklearn.metrics import accuracy_score"
   ]
  },
  {
   "cell_type": "code",
   "execution_count": 18,
   "id": "7d1ed8621042cebf",
   "metadata": {
    "ExecuteTime": {
     "end_time": "2025-05-05T03:47:14.159409Z",
     "start_time": "2025-05-05T03:47:14.004358Z"
    }
   },
   "outputs": [],
   "source": [
    "df_tfidf = pd.read_csv(r\"../gerador-tf-idf/tfidf.csv\", sep=\",\")\n",
    "df_docs_classificados = pd.read_csv(r\"../extracao-textos/documentos-classificados.csv\", sep=\",\")\n",
    "df_docs_classificados['categoriaNumero'] = df_docs_classificados['categoria'].map({\n",
    "        'contrato': 1,\n",
    "        'licitacao': 2,\n",
    "        'notaempenho': 3,\n",
    "        'sancao': 4\n",
    "    })"
   ]
  },
  {
   "cell_type": "code",
   "execution_count": null,
   "id": "81d70bc9d6482c97",
   "metadata": {
    "ExecuteTime": {
     "end_time": "2025-05-05T03:47:16.034762Z",
     "start_time": "2025-05-05T03:47:15.717656Z"
    }
   },
   "outputs": [
    {
     "name": "stdout",
     "output_type": "stream",
     "text": [
      "              precision    recall  f1-score   support\n",
      "\n",
      "           1       0.93      0.98      0.96        57\n",
      "           2       1.00      1.00      1.00        85\n",
      "           3       1.00      0.96      0.98        93\n",
      "           4       0.93      1.00      0.97        14\n",
      "\n",
      "    accuracy                           0.98       249\n",
      "   macro avg       0.97      0.98      0.98       249\n",
      "weighted avg       0.98      0.98      0.98       249\n",
      "\n",
      "Precisão do Multinomial Naive Bayes: 97.99%\n",
      "De um total de 249 tweets, foram rotulados incorretamente: 5\n"
     ]
    }
   ],
   "source": [
    "################## MODELO DE CLASSIFICAÇÃO NAIVE BAYES (MultinomialNB) ##################\n",
    "\n",
    "# Dividir o dataframe em recursos (X) e alvo (y)\n",
    "X_recursos = df_tfidf\n",
    "y_alvo = df_docs_classificados['categoriaNumero']\n",
    "\n",
    "X_train, X_test, y_train, y_test = train_test_split(X_recursos, y_alvo, test_size=0.5, random_state=0)\n",
    "\n",
    "# Aplicar SMOTE (apenas aos dados de treinamento)\n",
    "smote = SMOTE(random_state=0)\n",
    "X_train_balanceado, y_train_balanceado = smote.fit_resample(X_train, y_train)\n",
    "\n",
    "# Trainar modelo e prever\n",
    "mnb = MultinomialNB()\n",
    "mnb.fit(X_train_balanceado, y_train_balanceado)\n",
    "y_pred = mnb.predict(X_test)\n",
    "\n",
    "# Exibir um relatório de classificação\n",
    "print(classification_report(y_test, y_pred))\n",
    "accuracy = accuracy_score(y_test, y_pred)\n",
    "print(\"Precisão do Multinomial Naive Bayes: {:.2f}%\".format(accuracy * 100))\n",
    "print(\"De um total de %d tweets, foram rotulados incorretamente: %d\"\n",
    "      % (X_test.shape[0], (y_test != y_pred).sum()))"
   ]
  },
  {
   "cell_type": "code",
   "execution_count": 20,
   "id": "c4643c3e7b3b1275",
   "metadata": {
    "ExecuteTime": {
     "end_time": "2025-05-05T03:47:19.053854Z",
     "start_time": "2025-05-05T03:47:19.048393Z"
    }
   },
   "outputs": [
    {
     "name": "stdout",
     "output_type": "stream",
     "text": [
      "Modelo salvo com sucesso!\n"
     ]
    }
   ],
   "source": [
    "# Salvar modelo com Joblib #\n",
    "joblib.dump(mnb, r'../API-modeloML/modeloFinal.pkl')\n",
    "print(\"Modelo salvo com sucesso!\")"
   ]
  }
 ],
 "metadata": {
  "kernelspec": {
   "display_name": "Python 3",
   "language": "python",
   "name": "python3"
  },
  "language_info": {
   "codemirror_mode": {
    "name": "ipython",
    "version": 2
   },
   "file_extension": ".py",
   "mimetype": "text/x-python",
   "name": "python",
   "nbconvert_exporter": "python",
   "pygments_lexer": "ipython2",
   "version": "2.7.6"
  }
 },
 "nbformat": 4,
 "nbformat_minor": 5
}
