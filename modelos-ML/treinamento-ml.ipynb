{
 "cells": [
  {
   "cell_type": "code",
   "id": "initial_id",
   "metadata": {
    "collapsed": true,
    "ExecuteTime": {
     "end_time": "2025-05-20T02:58:15.390903Z",
     "start_time": "2025-05-20T02:58:15.388224Z"
    }
   },
   "source": [
    "import pandas as pd\n",
    "import numpy as np\n",
    "import matplotlib.pyplot as plt\n",
    "import joblib\n",
    "from imblearn.over_sampling import SMOTE\n",
    "from sklearn.model_selection import train_test_split\n",
    "from sklearn.naive_bayes import MultinomialNB\n",
    "from sklearn.metrics import classification_report\n",
    "from sklearn.metrics import accuracy_score"
   ],
   "outputs": [],
   "execution_count": 43
  },
  {
   "cell_type": "code",
   "id": "7d1ed8621042cebf",
   "metadata": {
    "ExecuteTime": {
     "end_time": "2025-05-20T02:58:15.619890Z",
     "start_time": "2025-05-20T02:58:15.474580Z"
    }
   },
   "source": [
    "df_tfidf = pd.read_csv(r\"../gerador-tf-idf/tfidf.csv\", sep=\",\")\n",
    "df_docs_classificados = pd.read_csv(r\"../extracao-textos/documentos-classificados.csv\", sep=\",\")\n",
    "df_docs_classificados['categoriaNumero'] = df_docs_classificados['categoria'].map({\n",
    "        'contrato': 1,\n",
    "        'licitacao': 2,\n",
    "        'notaempenho': 3,\n",
    "        'sancao': 4\n",
    "    })"
   ],
   "outputs": [],
   "execution_count": 44
  },
  {
   "cell_type": "code",
   "id": "81d70bc9d6482c97",
   "metadata": {
    "ExecuteTime": {
     "end_time": "2025-05-20T02:58:15.911529Z",
     "start_time": "2025-05-20T02:58:15.661736Z"
    }
   },
   "source": [
    "################## MODELO DE CLASSIFICAÇÃO NAIVE BAYES (MultinomialNB) ##################\n",
    "\n",
    "# Dividir o dataframe em recursos (X) e alvo (y)\n",
    "X_recursos = df_tfidf\n",
    "y_alvo = df_docs_classificados['categoriaNumero']\n",
    "\n",
    "X_train, X_test, y_train, y_test = train_test_split(X_recursos, y_alvo, test_size=0.4, random_state=0)\n",
    "\n",
    "# Aplicar SMOTE (apenas aos dados de treinamento)\n",
    "smote = SMOTE(random_state=0, sampling_strategy='not majority')\n",
    "X_train_balanceado, y_train_balanceado = smote.fit_resample(X_train, y_train)\n",
    "\n",
    "# Trainar modelo e prever\n",
    "mnb = MultinomialNB()\n",
    "mnb.fit(X_train_balanceado, y_train_balanceado)\n",
    "y_pred = mnb.predict(X_test)\n",
    "\n",
    "# Exibir um relatório de classificação\n",
    "print(classification_report(y_test, y_pred))\n",
    "accuracy = accuracy_score(y_test, y_pred)\n",
    "print(\"Precisão do Multinomial Naive Bayes: {:.2f}%\".format(accuracy * 100))\n",
    "print(\"De um total de %d tweets, foram rotulados incorretamente: %d\"\n",
    "      % (X_test.shape[0], (y_test != y_pred).sum()))"
   ],
   "outputs": [
    {
     "name": "stdout",
     "output_type": "stream",
     "text": [
      "              precision    recall  f1-score   support\n",
      "\n",
      "           1       0.92      0.98      0.95        48\n",
      "           2       1.00      1.00      1.00        59\n",
      "           3       1.00      0.95      0.97        80\n",
      "           4       0.93      1.00      0.96        13\n",
      "\n",
      "    accuracy                           0.97       200\n",
      "   macro avg       0.96      0.98      0.97       200\n",
      "weighted avg       0.98      0.97      0.98       200\n",
      "\n",
      "Precisão do Multinomial Naive Bayes: 97.50%\n",
      "De um total de 200 tweets, foram rotulados incorretamente: 5\n"
     ]
    }
   ],
   "execution_count": 45
  },
  {
   "cell_type": "code",
   "id": "c4643c3e7b3b1275",
   "metadata": {
    "ExecuteTime": {
     "end_time": "2025-05-20T02:58:16.089424Z",
     "start_time": "2025-05-20T02:58:16.082331Z"
    }
   },
   "source": [
    "# Salvar modelo com Joblib #\n",
    "joblib.dump(mnb, r'../API-modeloML/modeloFinal.pkl')\n",
    "print(\"Modelo salvo com sucesso!\")"
   ],
   "outputs": [
    {
     "name": "stdout",
     "output_type": "stream",
     "text": [
      "Modelo salvo com sucesso!\n"
     ]
    }
   ],
   "execution_count": 46
  }
 ],
 "metadata": {
  "kernelspec": {
   "display_name": "Python 3",
   "language": "python",
   "name": "python3"
  },
  "language_info": {
   "codemirror_mode": {
    "name": "ipython",
    "version": 2
   },
   "file_extension": ".py",
   "mimetype": "text/x-python",
   "name": "python",
   "nbconvert_exporter": "python",
   "pygments_lexer": "ipython2",
   "version": "2.7.6"
  }
 },
 "nbformat": 4,
 "nbformat_minor": 5
}
